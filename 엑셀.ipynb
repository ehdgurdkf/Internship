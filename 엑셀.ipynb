{
 "cells": [
  {
   "cell_type": "code",
   "execution_count": 1,
   "metadata": {},
   "outputs": [
    {
     "name": "stdout",
     "output_type": "stream",
     "text": [
      "Requirement already satisfied: openpyxl in d:\\py\\lib\\site-packages (3.0.3)\n",
      "Requirement already satisfied: et-xmlfile in d:\\py\\lib\\site-packages (from openpyxl) (1.0.1)\n",
      "Requirement already satisfied: jdcal in d:\\py\\lib\\site-packages (from openpyxl) (1.4.1)\n",
      "Note: you may need to restart the kernel to use updated packages.\n"
     ]
    }
   ],
   "source": [
    "pip install openpyxl"
   ]
  },
  {
   "cell_type": "code",
   "execution_count": 2,
   "metadata": {},
   "outputs": [
    {
     "name": "stdout",
     "output_type": "stream",
     "text": [
      "Requirement already satisfied: pandas in d:\\py\\lib\\site-packages (1.0.1)\n",
      "Requirement already satisfied: python-dateutil>=2.6.1 in d:\\py\\lib\\site-packages (from pandas) (2.8.1)\n",
      "Requirement already satisfied: pytz>=2017.2 in d:\\py\\lib\\site-packages (from pandas) (2019.3)\n",
      "Requirement already satisfied: numpy>=1.13.3 in d:\\py\\lib\\site-packages (from pandas) (1.18.1)\n",
      "Requirement already satisfied: six>=1.5 in d:\\py\\lib\\site-packages (from python-dateutil>=2.6.1->pandas) (1.14.0)\n",
      "Note: you may need to restart the kernel to use updated packages.\n"
     ]
    }
   ],
   "source": [
    "pip install pandas"
   ]
  },
  {
   "cell_type": "code",
   "execution_count": 3,
   "metadata": {},
   "outputs": [
    {
     "name": "stdout",
     "output_type": "stream",
     "text": [
      "Requirement already satisfied: numpy in d:\\py\\lib\\site-packages (1.18.1)\n",
      "Note: you may need to restart the kernel to use updated packages.\n"
     ]
    }
   ],
   "source": [
    "pip install numpy"
   ]
  },
  {
   "cell_type": "code",
   "execution_count": 22,
   "metadata": {},
   "outputs": [
    {
     "name": "stdout",
     "output_type": "stream",
     "text": [
      "C:\\Users\\ehdgurdkf\n"
     ]
    }
   ],
   "source": [
    "from os import chdir, getcwd\n",
    "wd=getcwd()\n",
    "print(wd)"
   ]
  },
  {
   "cell_type": "code",
   "execution_count": 23,
   "metadata": {},
   "outputs": [],
   "source": [
    "import pandas as pd\n",
    "import numpy as np\n",
    "import os\n",
    "import glob"
   ]
  },
  {
   "cell_type": "code",
   "execution_count": 28,
   "metadata": {},
   "outputs": [],
   "source": [
    "location = os.getcwd()\n",
    "excels = glob.glob('*.xls*') # glob 함수를 통해 엑셀을 객체로 만듭니다."
   ]
  },
  {
   "cell_type": "code",
   "execution_count": 29,
   "metadata": {},
   "outputs": [],
   "source": [
    "exl_list = [] \n",
    "for excel in excels:\n",
    "    if excel == '엑셀.xlsx':\n",
    "      continue\n",
    "    exl_list.append(excel)"
   ]
  },
  {
   "cell_type": "code",
   "execution_count": 30,
   "metadata": {},
   "outputs": [
    {
     "name": "stdout",
     "output_type": "stream",
     "text": [
      "['C1-1상반기.xlsx', 'C1-1하반기.xlsx']\n"
     ]
    }
   ],
   "source": [
    "print(exl_list)"
   ]
  },
  {
   "cell_type": "code",
   "execution_count": 31,
   "metadata": {},
   "outputs": [],
   "source": [
    "if len(exl_list) != 0:\n",
    "    df1 = pd.read_excel(exl_list[0])\n",
    "    \n",
    "    for item in exl_list[1: ]:\n",
    "        df2 = pd.read_excel(item)\n",
    "        i = 0\n",
    "    for i in range(-1,9):\n",
    "        i = i + 1\n",
    "        df2 = df2.drop(i,0)\n",
    "    df_total = pd.concat([df1, df2], axis=0)\n",
    "    df1 = df_total\n",
    "        \n",
    "    df_total.to_excel(location + '/통합.xlsx', index =False, sheet_name='통합')\n",
    "    \n",
    "else:\n",
    "    print('통합할 파일 없음.')"
   ]
  },
  {
   "cell_type": "code",
   "execution_count": 32,
   "metadata": {},
   "outputs": [],
   "source": [
    "if len(exl_list) != 0:\n",
    "    df1 = pd.read_excel(exl_list[0])\n",
    "\n",
    "    \n",
    "    for item in exl_list[1: ]:\n",
    "        df2 = pd.read_excel(item)\n",
    "        df_total = pd.concat([df1, df2], axis=0)\n",
    "        df1 = df_total\n",
    "        \n",
    "    df_total.to_excel(location + '/통합.xlsx', index =False, sheet_name='통합')\n",
    "    \n",
    "else:\n",
    "    print('통합할 파일 없음.')\n",
    "    "
   ]
  },
  {
   "cell_type": "code",
   "execution_count": 33,
   "metadata": {},
   "outputs": [],
   "source": [
    "if len(exl_list) != 0:\n",
    "    df1 = pd.read_excel(exl_list[0])\n",
    "    \n",
    "    for item in exl_list[1: ]:\n",
    "        df2 = pd.read_excel(item)\n",
    "        i = 0\n",
    "        for i in range(-1,9):\n",
    "            i = i + 1\n",
    "            df2 = df2.drop(i,0);\n",
    "        \n",
    "        \n",
    "        df_total = pd.concat([df1, df2], axis=0)\n",
    "        df1 = df_total\n",
    "        \n",
    "    df_total.to_excel(location + '/통합.xlsx', index =False, sheet_name='통합')\n",
    "    \n",
    "else:\n",
    "    print('통합할 파일 없음.')"
   ]
  },
  {
   "cell_type": "code",
   "execution_count": null,
   "metadata": {},
   "outputs": [],
   "source": []
  }
 ],
 "metadata": {
  "kernelspec": {
   "display_name": "Python 3",
   "language": "python",
   "name": "python3"
  },
  "language_info": {
   "codemirror_mode": {
    "name": "ipython",
    "version": 3
   },
   "file_extension": ".py",
   "mimetype": "text/x-python",
   "name": "python",
   "nbconvert_exporter": "python",
   "pygments_lexer": "ipython3",
   "version": "3.7.6"
  }
 },
 "nbformat": 4,
 "nbformat_minor": 2
}
